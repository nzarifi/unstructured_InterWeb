{
 "cells": [
  {
   "cell_type": "code",
   "execution_count": 1,
   "metadata": {},
   "outputs": [],
   "source": [
    "from langchain_community.document_loaders import UnstructuredPDFLoader\n",
    "import pdfminer\n",
    "# from pdfminer.pdftypes import PDFObjRef\n",
    "# from pdfminer.utils import open_filename\n",
    "# from PIL import Image as PILImage\n",
    "# from pillow_heif import register_heif_opener"
   ]
  },
  {
   "cell_type": "code",
   "execution_count": 2,
   "metadata": {},
   "outputs": [],
   "source": [
    "from unstructured.partition import _partition_via_api\n",
    "# from unstructured.partition.common import (\n",
    "#          add_element_metadata,\n",
    "#         document_to_element_list,\n",
    "#           exactly_one,\n",
    "#       )"
   ]
  },
  {
   "cell_type": "code",
   "execution_count": 6,
   "metadata": {},
   "outputs": [
    {
     "name": "stderr",
     "output_type": "stream",
     "text": [
      "detectron2 is not installed. Cannot use the hi_res partitioning strategy. Falling back to partitioning with the fast strategy.\n"
     ]
    }
   ],
   "source": [
    "#loader = UnstructuredPDFLoader(\"/Users/niloofarzarifi/Desktop/Sales Enablement Docs/3_SR_Supplies_v7.3-002.pdf\")\n",
    "loader = UnstructuredPDFLoader(\"/Users/niloofarzarifi/Desktop/Sales Enablement Docs/Ad_CeramicCrown_10.25x12.5_20230210.pdf\")\n",
    "\n",
    "data = loader.load()"
   ]
  },
  {
   "cell_type": "code",
   "execution_count": 7,
   "metadata": {},
   "outputs": [
    {
     "data": {
      "text/plain": [
       "[Document(page_content='D E F I N I T I VE , R E D E F I N E D\\n\\nT H E   C H A I R S I D E   3 D   P R I N T E D   C R O W N   I S   H E R E\\n\\nA   D E F I N I T I V E  Y E S !\\n\\nFinally, an all-inclusive ecosystem dedicated to 3D printing Finally, an all-inclusive ecosystem dedicated to 3D printing definitive crowns—chairside. SprintRay Ceramic Crown definitive crowns—chairside. SprintRay Ceramic Crown introduces an all-new class of ‘Ceramic Dominant’ resin, introduces an all-new class of ‘Ceramic Dominant’ resin, FDA-cleared for same-day definitive restorations. To find FDA-cleared for same-day definitive restorations. To find out more, set up a SprintRay 3D printing demo by out more, set up a SprintRay 3D printing demo by scanning the QR code. scanning the QR code.', metadata={'source': '/Users/niloofarzarifi/Desktop/Sales Enablement Docs/Ad_CeramicCrown_10.25x12.5_20230210.pdf'})]"
      ]
     },
     "execution_count": 7,
     "metadata": {},
     "output_type": "execute_result"
    }
   ],
   "source": [
    "data"
   ]
  },
  {
   "cell_type": "code",
   "execution_count": 47,
   "metadata": {},
   "outputs": [],
   "source": [
    "from langchain_community.document_loaders import UnstructuredHTMLLoader\n",
    "\n"
   ]
  },
  {
   "cell_type": "code",
   "execution_count": 48,
   "metadata": {},
   "outputs": [],
   "source": [
    "loader = UnstructuredHTMLLoader(\"/Users/niloofarzarifi/Desktop/Quick Start - Unstructured 0.12.6 documentation.html\")\n",
    "\n",
    "data = loader.load()"
   ]
  },
  {
   "cell_type": "code",
   "execution_count": 49,
   "metadata": {},
   "outputs": [
    {
     "data": {
      "text/plain": [
       "[Document(page_content='Join\\n\\nStar\\n\\n5,367\\n\\nQuick Start\\uf0c1\\n\\nInstallation\\uf0c1\\n\\nThis guide offers concise steps to swiftly install and validate your unstructured installation. For more comprehensive installation guide, please refer to this page.\\n\\nInstalling the Python SDK:\\nYou can install the core SDK using pip:\\npip install unstructured\\n\\n\\nPlain text files, HTML, XML, JSON, and Emails are immediately supported without any additional dependencies.\\nIf you need to process other document types, you can install the extras required by following the Full Installation\\n\\nSystem Dependencies:\\nEnsure the subsequent system dependencies are installed. Your requirements might vary based on the document types you’re handling:\\n\\nlibmagic-dev : Essential for filetype detection.\\npoppler-utils : Needed for images and PDFs.\\ntesseract-ocr : Essential for images and PDFs.\\nlibreoffice : For MS Office documents.\\npandoc : For EPUBs, RTFs, and Open Office documents. Please note that to handle RTF files, you need version 2.14.2 or newer. Running this script will install the correct version for you.\\n\\nValidating Installation\\uf0c1\\n\\nAfter installation, confirm the setup by executing the below Python code:\\n\\nfrom\\n\\nunstructured.partition.auto\\n\\nimport\\n\\npartition\\n\\nelements\\n\\npartition\\n\\nfilename\\n\\n\"example-docs/eml/fake-email.eml\"\\n\\nIf you’ve opted for the “local-inference” installation, you should also be able to execute:\\n\\nfrom\\n\\nunstructured.partition.auto\\n\\nimport\\n\\npartition\\n\\nelements\\n\\npartition\\n\\n\"example-docs/layout-parser-paper.pdf\"\\n\\nIf these code snippets run without errors, congratulations! Your unstructured installation is successful and ready for use.\\n\\nThe following section will cover basic concepts and usage patterns in unstructured.\\nAfter reading this section, you should be able to:\\n\\nPartitioning a document with the partition function.\\n\\nUnderstand how documents are structured in unstructured.\\n\\nConvert a document to a dictionary and/or save it as a JSON.\\n\\nThe example documents in this section come from the\\nexample-docs\\ndirectory in the unstructured repo.\\n\\nBefore running the code in this make sure you’ve installed the unstructured library\\nand all dependencies using the instructions in the Quick Start section.\\n\\nPartitioning a document\\uf0c1\\n\\nIn this section, we’ll cut right to the chase and get to the most important part of the library: partitioning a document.\\nThe goal of document partitioning is to read in a source document, split the document into sections, categorize those sections,\\nand extract the text associated with those sections. Depending on the document type, unstructured uses different methods for\\npartitioning a document. We’ll cover those in a later section. For now, we’ll use the simplest API in the library,\\nthe partition function. The partition function will detect the filetype of the source document and route it to the appropriate\\npartitioning function. You can try out the partition function by running the cell below.\\n\\nfrom\\n\\nunstructured.partition.auto\\n\\nimport\\n\\npartition\\n\\nelements\\n\\npartition\\n\\nfilename\\n\\n\"example-10k.html\"\\n\\nYou can also pass in a file as a file-like object using the following workflow:\\n\\nwith\\n\\nopen\\n\\n\"example-10k.html\"\\n\\n\"rb\"\\n\\nas\\n\\nelements\\n\\npartition\\n\\nfile\\n\\npartition\\n\\nlibmagic for filetype detection. If\\n\\nlibmagic\\n\\npartition\\n\\nlibmagic\\n\\npartition\\n\\nlibmagic\\n\\nlibmagic\\n\\nQuickstart Tutorial\\uf0c1\\n\\nIf you’re eager to dive in, head over Getting Started on Google Colab to get a hands-on introduction to the unstructured library. In a few minutes, you’ll have a basic workflow set up and running!\\n\\nFor more detailed information about specific components or advanced features, explore the rest of the documentation.', metadata={'source': '/Users/niloofarzarifi/Desktop/Quick Start - Unstructured 0.12.6 documentation.html'})]"
      ]
     },
     "execution_count": 49,
     "metadata": {},
     "output_type": "execute_result"
    }
   ],
   "source": [
    "data"
   ]
  }
 ],
 "metadata": {
  "kernelspec": {
   "display_name": "slc",
   "language": "python",
   "name": "python3"
  },
  "language_info": {
   "codemirror_mode": {
    "name": "ipython",
    "version": 3
   },
   "file_extension": ".py",
   "mimetype": "text/x-python",
   "name": "python",
   "nbconvert_exporter": "python",
   "pygments_lexer": "ipython3",
   "version": "3.11.0"
  }
 },
 "nbformat": 4,
 "nbformat_minor": 2
}
